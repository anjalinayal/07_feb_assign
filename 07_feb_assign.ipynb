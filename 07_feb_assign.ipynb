{
 "cells": [
  {
   "cell_type": "code",
   "execution_count": null,
   "id": "2d3096f2-78b4-4e8e-af19-a5291c7c1fa8",
   "metadata": {},
   "outputs": [],
   "source": [
    "# question 1 task 2"
   ]
  },
  {
   "cell_type": "code",
   "execution_count": 1,
   "id": "3081e414-d8b4-4aff-8f5f-ff7486531408",
   "metadata": {},
   "outputs": [
    {
     "name": "stdin",
     "output_type": "stream",
     "text": [
      "enter a password adfdfdsASDFH!@#$\n"
     ]
    },
    {
     "data": {
      "text/plain": [
       "'invalid password'"
      ]
     },
     "execution_count": 1,
     "metadata": {},
     "output_type": "execute_result"
    }
   ],
   "source": [
    "def valid():\n",
    "    password=input(\"enter a password\")\n",
    "    count_upper=0\n",
    "    count_lower=0\n",
    "    count_num=0\n",
    "    count_special=0\n",
    "    special='''!@#$%,^&*()<>?_+=:;./`*-'\"][}{'''\n",
    "    for i in password:\n",
    "        if i.isupper():\n",
    "            count_upper=count_upper+1\n",
    "        elif i.islower():\n",
    "            count_lower=count_lower+1\n",
    "        elif i.isdigit():\n",
    "            count_num=count_num+1\n",
    "        elif i in special:\n",
    "            count_special=count_special+1\n",
    "    # return count_upper, count_lower,count_num,count_special\n",
    "    \n",
    "    if count_upper<2 or count_lower<2 or count_num<1 or count_special<3 or len(password)<10:\n",
    "        return \"invalid password\"\n",
    "    else: \n",
    "        return \"valid password\"\n",
    "    \n",
    "    \n",
    "valid()"
   ]
  },
  {
   "cell_type": "code",
   "execution_count": 4,
   "id": "dbdfd9fb-194e-4258-b356-d333bba0bd59",
   "metadata": {},
   "outputs": [
    {
     "data": {
      "text/plain": [
       "'Starts with s'"
      ]
     },
     "execution_count": 4,
     "metadata": {},
     "output_type": "execute_result"
    }
   ],
   "source": [
    "#Q2\n",
    "a=lambda s:\"Starts with s\" if s[0]==\"s\" or s[0]==\"S\" else \"doesn't start with s\"\n",
    "a(\"Sello\")"
   ]
  },
  {
   "cell_type": "code",
   "execution_count": 29,
   "id": "c9f7d00b-6455-4e46-8465-a3de7739029e",
   "metadata": {},
   "outputs": [
    {
     "data": {
      "text/plain": [
       "'string is numeric'"
      ]
     },
     "execution_count": 29,
     "metadata": {},
     "output_type": "execute_result"
    }
   ],
   "source": [
    "def numb(s):\n",
    "    count=0\n",
    "    for x in s:\n",
    "        if x.isdigit():\n",
    "            count = count + 1  \n",
    "    if count==len(s):\n",
    "        return \"string is numeric\"\n",
    "    else:\n",
    "        return \" string is not numeric\"\n",
    "\n",
    "numb(\"1234\")\n",
    "        \n",
    "    \n",
    "    "
   ]
  },
  {
   "cell_type": "code",
   "execution_count": 30,
   "id": "d7e65fe9-3030-44e7-ad8a-a993592ce615",
   "metadata": {},
   "outputs": [
    {
     "name": "stdout",
     "output_type": "stream",
     "text": [
      "[('orange', 80), ('mango', 99), ('grapes', 1000)]\n"
     ]
    }
   ],
   "source": [
    "l=[(\"mango\",99),(\"orange\",80), (\"grapes\", 1000)]\n",
    "l.sort(key=lambda x:x[1])\n",
    "print(l)"
   ]
  },
  {
   "cell_type": "code",
   "execution_count": 31,
   "id": "74216c18-f72f-4c48-b99d-62113ccb4397",
   "metadata": {},
   "outputs": [
    {
     "data": {
      "text/plain": [
       "[1, 4, 9, 16, 25, 36, 49, 64, 81, 100]"
      ]
     },
     "execution_count": 31,
     "metadata": {},
     "output_type": "execute_result"
    }
   ],
   "source": [
    "l=[1,2,3,4,5,6,7,8,9,10]\n",
    "list(map(lambda x:x**2,l))"
   ]
  },
  {
   "cell_type": "code",
   "execution_count": 32,
   "id": "86bb6ece-1162-423c-b23a-8776c9a21c6a",
   "metadata": {},
   "outputs": [
    {
     "data": {
      "text/plain": [
       "'is odd'"
      ]
     },
     "execution_count": 32,
     "metadata": {},
     "output_type": "execute_result"
    }
   ],
   "source": [
    "a=lambda x: \"is even\" if x%2==0 else \"is odd\"\n",
    "a(25)"
   ]
  },
  {
   "cell_type": "code",
   "execution_count": 35,
   "id": "7ff268a6-f8d1-4e53-882e-64ac066e1e51",
   "metadata": {},
   "outputs": [
    {
     "data": {
      "text/plain": [
       "[2, 4, 6, 8, 10]"
      ]
     },
     "execution_count": 35,
     "metadata": {},
     "output_type": "execute_result"
    }
   ],
   "source": [
    "l=[1,2,3,4,5,6,7,8,9,10]\n",
    "list(filter(lambda x : x%2==0,l))"
   ]
  },
  {
   "cell_type": "code",
   "execution_count": 52,
   "id": "e47f3976-55cc-4bce-95c7-9591e2caaf95",
   "metadata": {},
   "outputs": [
    {
     "data": {
      "text/plain": [
       "([1, 2, 3, 4, 5, 6], [-1, -2, -3, -4, -5, 0])"
      ]
     },
     "execution_count": 52,
     "metadata": {},
     "output_type": "execute_result"
    }
   ],
   "source": [
    "l=[1,2,3,4,5,6,-1,-2,-3,-4,-5,0]\n",
    "def sortlist(n):\n",
    "    pos=[]\n",
    "    neg=[]\n",
    "    for x in n:\n",
    "        if x>0:\n",
    "            pos.append(x)\n",
    "        else:\n",
    "            neg.append(x)\n",
    "    return pos,neg\n",
    "sortlist(l)\n",
    "\n",
    "#list(map(sortlist,l))"
   ]
  },
  {
   "cell_type": "code",
   "execution_count": null,
   "id": "18d02744-1898-4acd-9813-6c5c5862ba10",
   "metadata": {},
   "outputs": [],
   "source": []
  }
 ],
 "metadata": {
  "kernelspec": {
   "display_name": "Python 3 (ipykernel)",
   "language": "python",
   "name": "python3"
  },
  "language_info": {
   "codemirror_mode": {
    "name": "ipython",
    "version": 3
   },
   "file_extension": ".py",
   "mimetype": "text/x-python",
   "name": "python",
   "nbconvert_exporter": "python",
   "pygments_lexer": "ipython3",
   "version": "3.10.6"
  }
 },
 "nbformat": 4,
 "nbformat_minor": 5
}
